{
 "cells": [
  {
   "cell_type": "code",
   "execution_count": 1,
   "metadata": {},
   "outputs": [
    {
     "data": {
      "text/plain": [
       "True"
      ]
     },
     "execution_count": 1,
     "metadata": {},
     "output_type": "execute_result"
    }
   ],
   "source": [
    "import torch\n",
    "torch.cuda.is_available()"
   ]
  },
  {
   "cell_type": "code",
   "execution_count": 2,
   "metadata": {},
   "outputs": [
    {
     "name": "stdout",
     "output_type": "stream",
     "text": [
      "First frame saved successfully to C:\\Users\\Paal\\ForskningNovemberDesember\\1aviframe0.jpg\n"
     ]
    }
   ],
   "source": [
    "import cv2\n",
    "import os\n",
    "\n",
    "# Define input and output paths\n",
    "input_path = r\"C:\\Users\\Paal\\ForskningNovemberDesember\\1 (1).avi\"\n",
    "output_path = r\"C:\\Users\\Paal\\ForskningNovemberDesember\\1aviframe0.jpg\"\n",
    "\n",
    "# Check if the input file exists\n",
    "if not os.path.exists(input_path):\n",
    "    raise FileNotFoundError(f\"The input file does not exist: {input_path}\")\n",
    "\n",
    "# Create a VideoCapture object\n",
    "cap = cv2.VideoCapture(input_path)\n",
    "\n",
    "if not cap.isOpened():\n",
    "    raise IOError(f\"Cannot open the video file: {input_path}\")\n",
    "\n",
    "# Read the first frame\n",
    "ret, frame = cap.read()\n",
    "\n",
    "if not ret:\n",
    "    raise ValueError(\"Cannot read the first frame from the video file.\")\n",
    "\n",
    "# Optionally, convert the frame from BGR to RGB (if needed)\n",
    "# frame = cv2.cvtColor(frame, cv2.COLOR_BGR2RGB)\n",
    "\n",
    "# Define JPEG quality for lossless-like saving\n",
    "# Note: JPEG is inherently lossy, but setting quality to 100 minimizes compression\n",
    "jpeg_quality = 100\n",
    "\n",
    "# Save the frame as JPEG\n",
    "success = cv2.imwrite(output_path, frame, [int(cv2.IMWRITE_JPEG_QUALITY), jpeg_quality])\n",
    "\n",
    "if not success:\n",
    "    raise IOError(f\"Could not write the image to: {output_path}\")\n",
    "\n",
    "print(f\"First frame saved successfully to {output_path}\")\n",
    "\n",
    "# Release the VideoCapture object\n",
    "cap.release()\n"
   ]
  }
 ],
 "metadata": {
  "kernelspec": {
   "display_name": "newInsanely",
   "language": "python",
   "name": "python3"
  },
  "language_info": {
   "codemirror_mode": {
    "name": "ipython",
    "version": 3
   },
   "file_extension": ".py",
   "mimetype": "text/x-python",
   "name": "python",
   "nbconvert_exporter": "python",
   "pygments_lexer": "ipython3",
   "version": "3.10.14"
  }
 },
 "nbformat": 4,
 "nbformat_minor": 2
}
